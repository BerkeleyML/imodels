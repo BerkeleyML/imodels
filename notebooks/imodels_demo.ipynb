{
 "cells": [
  {
   "cell_type": "code",
   "execution_count": 37,
   "metadata": {
    "pycharm": {
     "is_executing": false
    }
   },
   "outputs": [
    {
     "name": "stdout",
     "output_type": "stream",
     "text": [
      "The autoreload extension is already loaded. To reload it, use:\n",
      "  %reload_ext autoreload\n",
      "regression data (126, 13) classification data (192, 8)\n"
     ]
    }
   ],
   "source": [
    "%load_ext autoreload\n",
    "%autoreload 2\n",
    "import sys\n",
    "\n",
    "import matplotlib.pyplot as plt\n",
    "import numpy as np\n",
    "from sklearn.datasets import fetch_openml, load_boston\n",
    "from sklearn.model_selection import train_test_split\n",
    "from sklearn.tree import DecisionTreeRegressor, plot_tree, DecisionTreeClassifier\n",
    "from sklearn import metrics\n",
    "\n",
    "# installable with: `pip install imodels`\n",
    "from imodels import SLIMRegressor, BayesianRuleListClassifier, RuleFitRegressor, GreedyRuleListClassifier\n",
    "from imodels import OneRClassifier\n",
    "\n",
    "\n",
    "def get_reg_boston_data():\n",
    "    '''load (regression) data on boston housing prices\n",
    "    '''\n",
    "    X_reg, y_reg = load_boston(return_X_y=True)\n",
    "    feature_names = load_boston()['feature_names']\n",
    "    X_train_reg, X_test_reg, y_train_reg, y_test_reg = train_test_split(X_reg, y_reg, test_size=0.75) # split\n",
    "    return X_train_reg, X_test_reg, y_train_reg, y_test_reg, feature_names\n",
    "\n",
    "def get_diabetes_data():\n",
    "    '''load (classification) data on diabetes\n",
    "    '''\n",
    "    df = fetch_openml(\"diabetes\", version=1) # get dataset\n",
    "    X = df.data\n",
    "    y = (df.target == 'tested_positive').astype(np.int) # labels 0-1\n",
    "    X_train, X_test, y_train, y_test = train_test_split(X, y, test_size=0.75) # split\n",
    "    feature_names = [\"#Pregnant\",\"Glucose concentration test\",\"Blood pressure(mmHg)\",\"Triceps skin fold thickness(mm)\",\n",
    "                  \"2-Hour serum insulin (mu U/ml)\",\"Body mass index\",\"Diabetes pedigree function\",\"Age (years)\"]\n",
    "    return X_train, X_test, y_train, y_test, feature_names\n",
    "    \n",
    "\n",
    "X_train_reg, X_test_reg, y_train_reg, y_test_reg, feat_names_reg = get_reg_boston_data()\n",
    "X_train, X_test, y_train, y_test, feat_names = get_diabetes_data()\n",
    "\n",
    "\n",
    "def viz_classification_preds(probs, y_test):\n",
    "    '''look at prediction breakdown\n",
    "    '''\n",
    "    plt.subplot(121)\n",
    "    plt.hist(probs[:, 1][y_test==0], label='Class 0')\n",
    "    plt.hist(probs[:, 1][y_test==1], label='Class 1', alpha=0.8)\n",
    "    plt.ylabel('Count')\n",
    "    plt.xlabel('Predicted probability of class 1')\n",
    "    plt.legend()\n",
    "    \n",
    "    plt.subplot(122)\n",
    "    preds = np.argmax(probs, axis=1)\n",
    "    plt.title('ROC curve')\n",
    "    fpr, tpr, thresholds = metrics.roc_curve(y_test, preds)\n",
    "    plt.xlabel('False positive rate')\n",
    "    plt.ylabel('True positive rate')\n",
    "    plt.plot(fpr, tpr)\n",
    "    plt.show()\n",
    "\n",
    "# load some data\n",
    "print('regression data', X_train_reg.shape, 'classification data', X_train.shape)"
   ]
  },
  {
   "cell_type": "markdown",
   "metadata": {},
   "source": [
    "# rule sets\n",
    "Rule sets are models that create a set of (potentially overlapping) rules."
   ]
  },
  {
   "cell_type": "markdown",
   "metadata": {},
   "source": [
    "### rulefit"
   ]
  },
  {
   "cell_type": "code",
   "execution_count": 42,
   "metadata": {
    "pycharm": {
     "is_executing": false
    }
   },
   "outputs": [
    {
     "name": "stdout",
     "output_type": "stream",
     "text": [
      "test r2: 0.74\n"
     ]
    },
    {
     "data": {
      "text/html": [
       "<style  type=\"text/css\" >\n",
       "    #T_611768c6_453a_11eb_9924_dca90475d763row0_col1 {\n",
       "            background-color:  #46c06f;\n",
       "            color:  #000000;\n",
       "        }    #T_611768c6_453a_11eb_9924_dca90475d763row0_col2 {\n",
       "            background-color:  #fde725;\n",
       "            color:  #000000;\n",
       "        }    #T_611768c6_453a_11eb_9924_dca90475d763row1_col1 {\n",
       "            background-color:  #84d44b;\n",
       "            color:  #000000;\n",
       "        }    #T_611768c6_453a_11eb_9924_dca90475d763row1_col2 {\n",
       "            background-color:  #fde725;\n",
       "            color:  #000000;\n",
       "        }    #T_611768c6_453a_11eb_9924_dca90475d763row2_col1 {\n",
       "            background-color:  #3dbc74;\n",
       "            color:  #000000;\n",
       "        }    #T_611768c6_453a_11eb_9924_dca90475d763row2_col2 {\n",
       "            background-color:  #fde725;\n",
       "            color:  #000000;\n",
       "        }    #T_611768c6_453a_11eb_9924_dca90475d763row3_col1 {\n",
       "            background-color:  #4ac16d;\n",
       "            color:  #000000;\n",
       "        }    #T_611768c6_453a_11eb_9924_dca90475d763row3_col2 {\n",
       "            background-color:  #fde725;\n",
       "            color:  #000000;\n",
       "        }    #T_611768c6_453a_11eb_9924_dca90475d763row4_col1 {\n",
       "            background-color:  #42be71;\n",
       "            color:  #000000;\n",
       "        }    #T_611768c6_453a_11eb_9924_dca90475d763row4_col2 {\n",
       "            background-color:  #fde725;\n",
       "            color:  #000000;\n",
       "        }    #T_611768c6_453a_11eb_9924_dca90475d763row5_col1 {\n",
       "            background-color:  #440154;\n",
       "            color:  #f1f1f1;\n",
       "        }    #T_611768c6_453a_11eb_9924_dca90475d763row5_col2 {\n",
       "            background-color:  #93d741;\n",
       "            color:  #000000;\n",
       "        }    #T_611768c6_453a_11eb_9924_dca90475d763row6_col1 {\n",
       "            background-color:  #20a486;\n",
       "            color:  #000000;\n",
       "        }    #T_611768c6_453a_11eb_9924_dca90475d763row6_col2 {\n",
       "            background-color:  #1fa187;\n",
       "            color:  #000000;\n",
       "        }    #T_611768c6_453a_11eb_9924_dca90475d763row7_col1 {\n",
       "            background-color:  #7ad151;\n",
       "            color:  #000000;\n",
       "        }    #T_611768c6_453a_11eb_9924_dca90475d763row7_col2 {\n",
       "            background-color:  #3a548c;\n",
       "            color:  #f1f1f1;\n",
       "        }    #T_611768c6_453a_11eb_9924_dca90475d763row8_col1 {\n",
       "            background-color:  #fde725;\n",
       "            color:  #000000;\n",
       "        }    #T_611768c6_453a_11eb_9924_dca90475d763row8_col2 {\n",
       "            background-color:  #481b6d;\n",
       "            color:  #f1f1f1;\n",
       "        }    #T_611768c6_453a_11eb_9924_dca90475d763row9_col1 {\n",
       "            background-color:  #f4e61e;\n",
       "            color:  #000000;\n",
       "        }    #T_611768c6_453a_11eb_9924_dca90475d763row9_col2 {\n",
       "            background-color:  #440154;\n",
       "            color:  #f1f1f1;\n",
       "        }</style><table id=\"T_611768c6_453a_11eb_9924_dca90475d763\" ><thead>    <tr>        <th class=\"blank level0\" ></th>        <th class=\"col_heading level0 col0\" >rule</th>        <th class=\"col_heading level0 col1\" >coef</th>        <th class=\"col_heading level0 col2\" >support</th>    </tr></thead><tbody>\n",
       "                <tr>\n",
       "                        <th id=\"T_611768c6_453a_11eb_9924_dca90475d763level0_row0\" class=\"row_heading level0 row0\" >0</th>\n",
       "                        <td id=\"T_611768c6_453a_11eb_9924_dca90475d763row0_col0\" class=\"data row0 col0\" >CRIM</td>\n",
       "                        <td id=\"T_611768c6_453a_11eb_9924_dca90475d763row0_col1\" class=\"data row0 col1\" >-0.129550</td>\n",
       "                        <td id=\"T_611768c6_453a_11eb_9924_dca90475d763row0_col2\" class=\"data row0 col2\" >1.000000</td>\n",
       "            </tr>\n",
       "            <tr>\n",
       "                        <th id=\"T_611768c6_453a_11eb_9924_dca90475d763level0_row1\" class=\"row_heading level0 row1\" >3</th>\n",
       "                        <td id=\"T_611768c6_453a_11eb_9924_dca90475d763row1_col0\" class=\"data row1 col0\" >CHAS</td>\n",
       "                        <td id=\"T_611768c6_453a_11eb_9924_dca90475d763row1_col1\" class=\"data row1 col1\" >1.789301</td>\n",
       "                        <td id=\"T_611768c6_453a_11eb_9924_dca90475d763row1_col2\" class=\"data row1 col2\" >1.000000</td>\n",
       "            </tr>\n",
       "            <tr>\n",
       "                        <th id=\"T_611768c6_453a_11eb_9924_dca90475d763level0_row2\" class=\"row_heading level0 row2\" >10</th>\n",
       "                        <td id=\"T_611768c6_453a_11eb_9924_dca90475d763row2_col0\" class=\"data row2 col0\" >PTRATIO</td>\n",
       "                        <td id=\"T_611768c6_453a_11eb_9924_dca90475d763row2_col1\" class=\"data row2 col1\" >-0.505385</td>\n",
       "                        <td id=\"T_611768c6_453a_11eb_9924_dca90475d763row2_col2\" class=\"data row2 col2\" >1.000000</td>\n",
       "            </tr>\n",
       "            <tr>\n",
       "                        <th id=\"T_611768c6_453a_11eb_9924_dca90475d763level0_row3\" class=\"row_heading level0 row3\" >11</th>\n",
       "                        <td id=\"T_611768c6_453a_11eb_9924_dca90475d763row3_col0\" class=\"data row3 col0\" >B</td>\n",
       "                        <td id=\"T_611768c6_453a_11eb_9924_dca90475d763row3_col1\" class=\"data row3 col1\" >0.001259</td>\n",
       "                        <td id=\"T_611768c6_453a_11eb_9924_dca90475d763row3_col2\" class=\"data row3 col2\" >1.000000</td>\n",
       "            </tr>\n",
       "            <tr>\n",
       "                        <th id=\"T_611768c6_453a_11eb_9924_dca90475d763level0_row4\" class=\"row_heading level0 row4\" >12</th>\n",
       "                        <td id=\"T_611768c6_453a_11eb_9924_dca90475d763row4_col0\" class=\"data row4 col0\" >LSTAT</td>\n",
       "                        <td id=\"T_611768c6_453a_11eb_9924_dca90475d763row4_col1\" class=\"data row4 col1\" >-0.308693</td>\n",
       "                        <td id=\"T_611768c6_453a_11eb_9924_dca90475d763row4_col2\" class=\"data row4 col2\" >1.000000</td>\n",
       "            </tr>\n",
       "            <tr>\n",
       "                        <th id=\"T_611768c6_453a_11eb_9924_dca90475d763level0_row5\" class=\"row_heading level0 row5\" >14</th>\n",
       "                        <td id=\"T_611768c6_453a_11eb_9924_dca90475d763row5_col0\" class=\"data row5 col0\" >DIS > 1.17165 and RM <= 6.978</td>\n",
       "                        <td id=\"T_611768c6_453a_11eb_9924_dca90475d763row5_col1\" class=\"data row5 col1\" >-12.778523</td>\n",
       "                        <td id=\"T_611768c6_453a_11eb_9924_dca90475d763row5_col2\" class=\"data row5 col2\" >0.841270</td>\n",
       "            </tr>\n",
       "            <tr>\n",
       "                        <th id=\"T_611768c6_453a_11eb_9924_dca90475d763level0_row6\" class=\"row_heading level0 row6\" >13</th>\n",
       "                        <td id=\"T_611768c6_453a_11eb_9924_dca90475d763row6_col0\" class=\"data row6 col0\" >LSTAT > 9.68 and RM <= 7.437</td>\n",
       "                        <td id=\"T_611768c6_453a_11eb_9924_dca90475d763row6_col1\" class=\"data row6 col1\" >-2.323540</td>\n",
       "                        <td id=\"T_611768c6_453a_11eb_9924_dca90475d763row6_col2\" class=\"data row6 col2\" >0.579365</td>\n",
       "            </tr>\n",
       "            <tr>\n",
       "                        <th id=\"T_611768c6_453a_11eb_9924_dca90475d763level0_row7\" class=\"row_heading level0 row7\" >15</th>\n",
       "                        <td id=\"T_611768c6_453a_11eb_9924_dca90475d763row7_col0\" class=\"data row7 col0\" >CRIM <= 4.684 and DIS > 1.1519 and RM <= 6.978 and RM > 6.143</td>\n",
       "                        <td id=\"T_611768c6_453a_11eb_9924_dca90475d763row7_col1\" class=\"data row7 col1\" >1.556483</td>\n",
       "                        <td id=\"T_611768c6_453a_11eb_9924_dca90475d763row7_col2\" class=\"data row7 col2\" >0.269841</td>\n",
       "            </tr>\n",
       "            <tr>\n",
       "                        <th id=\"T_611768c6_453a_11eb_9924_dca90475d763level0_row8\" class=\"row_heading level0 row8\" >16</th>\n",
       "                        <td id=\"T_611768c6_453a_11eb_9924_dca90475d763row8_col0\" class=\"data row8 col0\" >RM > 7.437</td>\n",
       "                        <td id=\"T_611768c6_453a_11eb_9924_dca90475d763row8_col1\" class=\"data row8 col1\" >5.132581</td>\n",
       "                        <td id=\"T_611768c6_453a_11eb_9924_dca90475d763row8_col2\" class=\"data row8 col2\" >0.087302</td>\n",
       "            </tr>\n",
       "            <tr>\n",
       "                        <th id=\"T_611768c6_453a_11eb_9924_dca90475d763level0_row9\" class=\"row_heading level0 row9\" >17</th>\n",
       "                        <td id=\"T_611768c6_453a_11eb_9924_dca90475d763row9_col0\" class=\"data row9 col0\" >DIS <= 1.17165 and RM <= 6.978</td>\n",
       "                        <td id=\"T_611768c6_453a_11eb_9924_dca90475d763row9_col1\" class=\"data row9 col1\" >4.832514</td>\n",
       "                        <td id=\"T_611768c6_453a_11eb_9924_dca90475d763row9_col2\" class=\"data row9 col2\" >0.015873</td>\n",
       "            </tr>\n",
       "    </tbody></table>"
      ],
      "text/plain": [
       "<pandas.io.formats.style.Styler at 0x125644978>"
      ]
     },
     "execution_count": 42,
     "metadata": {},
     "output_type": "execute_result"
    }
   ],
   "source": [
    "# fit a rulefit model\n",
    "rulefit = RuleFitRegressor(max_rules=10)\n",
    "rulefit.fit(X_train_reg, y_train_reg, feature_names=feat_names_reg)\n",
    "\n",
    "# get test performance\n",
    "preds = rulefit.predict(X_test_reg)\n",
    "print(f'test r2: {metrics.r2_score(y_test_reg, preds):0.2f}')\n",
    "\n",
    "\n",
    "# inspect and print the rules\n",
    "rules = rulefit.get_rules()\n",
    "rules = rules[rules.coef != 0].sort_values(\"support\", ascending=False)\n",
    "\n",
    "# 'rule' is how the feature is constructed\n",
    "# 'coef' is its weight in the final linear model\n",
    "# 'support' is the fraction of points it applies to\n",
    "rules[['rule', 'coef', 'support']].style.background_gradient(cmap='viridis')"
   ]
  },
  {
   "cell_type": "markdown",
   "metadata": {},
   "source": [
    "# rule lists"
   ]
  },
  {
   "cell_type": "markdown",
   "metadata": {},
   "source": [
    "### greedy rule lists\n",
    "**like a decision tree that only ever splits going left**"
   ]
  },
  {
   "cell_type": "code",
   "execution_count": 38,
   "metadata": {
    "pycharm": {
     "is_executing": false
    }
   },
   "outputs": [
    {
     "name": "stdout",
     "output_type": "stream",
     "text": [
      "mean 0.323 (192 pts)\n",
      "if Glucose concentration test >= 128.0 then 0.587 (63 pts)\n",
      "mean 0.194 (129 pts)\n",
      "if Body mass index >= 45.5 then 1.0 (3 pts)\n",
      "mean 0.175 (126 pts)\n",
      "if Diabetes pedigree function >= 1.282 then 1.0 (2 pts)\n",
      "mean 0.161 (124 pts)\n",
      "if Age (years) >= 29.0 then 0.259 (58 pts)\n",
      "mean 0.076 (66 pts)\n",
      "if Glucose concentration test >= 107.0 then 0.2 (25 pts)\n",
      "mean 0 (41 pts)\n",
      "\n",
      "shapes (576,) (576, 2)\n"
     ]
    },
    {
     "data": {
      "image/png": "[encoded data removed]",
      "text/plain": [
       "<Figure size 432x288 with 2 Axes>"
      ]
     },
     "metadata": {},
     "output_type": "display_data"
    }
   ],
   "source": [
    "# fit a greedy rule list\n",
    "m = GreedyRuleListClassifier()\n",
    "m.fit(X_train, y=y_train, feature_names=feat_names) # stores into m.rules_\n",
    "probs = m.predict_proba(X_test)\n",
    "\n",
    "# print the list\n",
    "print(m)\n",
    "\n",
    "# look at prediction breakdown\n",
    "viz_classification_preds(probs, y_test)"
   ]
  },
  {
   "cell_type": "markdown",
   "metadata": {},
   "source": [
    "### oneR\n",
    "**fits a rule list restricted to use only one feature**"
   ]
  },
  {
   "cell_type": "code",
   "execution_count": 39,
   "metadata": {},
   "outputs": [
    {
     "name": "stderr",
     "output_type": "stream",
     "text": [
      "/Users/chandan/Library/Python/3.7/lib/python/site-packages/numpy/core/fromnumeric.py:3118: RuntimeWarning: Mean of empty slice.\n",
      "  out=out, **kwargs)\n",
      "/Users/chandan/Library/Python/3.7/lib/python/site-packages/numpy/core/_methods.py:85: RuntimeWarning: invalid value encountered in double_scalars\n",
      "  ret = ret.dtype.type(ret / rcount)\n"
     ]
    },
    {
     "name": "stdout",
     "output_type": "stream",
     "text": [
      "mean 0.323 (192 pts)\n",
      "if Glucose concentration test >= 128.0 then 0.587 (63 pts)\n",
      "mean 0.194 (129 pts)\n",
      "if Glucose concentration test >= 107.0 then 0.304 (56 pts)\n",
      "mean 0.11 (73 pts)\n",
      "if Glucose concentration test >= 95.0 then 0.171 (35 pts)\n",
      "mean 0.053 (38 pts)\n",
      "if Glucose concentration test >= 89.0 then 0.083 (24 pts)\n",
      "mean 0 (14 pts)\n",
      "\n",
      "shapes (576,) (576, 2)\n"
     ]
    },
    {
     "data": {
      "image/png": "[encoded data removed]",
      "text/plain": [
       "<Figure size 432x288 with 2 Axes>"
      ]
     },
     "metadata": {},
     "output_type": "display_data"
    }
   ],
   "source": [
    "# fit a oneR model\n",
    "m = OneRClassifier()\n",
    "m.fit(X_train, y=y_train, feature_names=feat_names) # stores into m.rules_\n",
    "probs = m.predict_proba(X_test)\n",
    "\n",
    "# print the rule list\n",
    "print(m)\n",
    "\n",
    "# look at prediction breakdown\n",
    "viz_classification_preds(probs, y_test)"
   ]
  },
  {
   "cell_type": "markdown",
   "metadata": {},
   "source": [
    "### scalable bayesian rule lists"
   ]
  },
  {
   "cell_type": "code",
   "execution_count": 40,
   "metadata": {},
   "outputs": [
    {
     "name": "stdout",
     "output_type": "stream",
     "text": [
      "training...\n",
      "learned model:\n",
      " Trained RuleListClassifier for detecting diabetes\n",
      "==================================================\n",
      "IF X5_-inf_to_26.299999999999997 THEN probability of diabetes: 9.1% (2.6%-19.1%)\n",
      "ELSE IF X1_127.5_to_inf THEN probability of diabetes: 67.9% (54.9%-79.7%)\n",
      "ELSE IF X0_All THEN probability of diabetes: 24.8% (16.9%-33.6%)\n",
      "ELSE probability of diabetes: 50.0% (2.5%-97.5%)\n",
      "=================================================\n",
      "\n",
      "shapes (576,) (576, 2)\n"
     ]
    },
    {
     "data": {
      "image/png": "[encoded data removed]",
      "text/plain": [
       "<Figure size 432x288 with 2 Axes>"
      ]
     },
     "metadata": {},
     "output_type": "display_data"
    }
   ],
   "source": [
    "np.random.seed(13)\n",
    "# train classifier (allow more iterations for better accuracy; use BigDataRuleListClassifier for large datasets)\n",
    "print('training...')\n",
    "m = BayesianRuleListClassifier(max_iter=3000, class1label=\"diabetes\", verbose=False)\n",
    "m.fit(X_train, y_train)\n",
    "probs = m.predict_proba(X_test)\n",
    "print(\"learned model:\\n\", m)\n",
    "viz_classification_preds(probs, y_test)"
   ]
  },
  {
   "cell_type": "markdown",
   "metadata": {},
   "source": [
    "# rule trees"
   ]
  },
  {
   "cell_type": "markdown",
   "metadata": {},
   "source": [
    "### short decision tree"
   ]
  },
  {
   "cell_type": "code",
   "execution_count": 41,
   "metadata": {
    "pycharm": {
     "is_executing": false
    }
   },
   "outputs": [
    {
     "data": {
      "image/png": "[encoded data removed]",
      "text/plain": [
       "<Figure size 432x288 with 1 Axes>"
      ]
     },
     "metadata": {},
     "output_type": "display_data"
    },
    {
     "name": "stdout",
     "output_type": "stream",
     "text": [
      "shapes (576,) (576, 2)\n"
     ]
    },
    {
     "data": {
      "image/png": "[encoded data removed]",
      "text/plain": [
       "<Figure size 432x288 with 2 Axes>"
      ]
     },
     "metadata": {},
     "output_type": "display_data"
    }
   ],
   "source": [
    "# specify a decision tree with a maximum depth\n",
    "dt = DecisionTreeClassifier(max_depth=3)\n",
    "dt.fit(X_train, y_train)\n",
    "\n",
    "# calculate mse on the training data\n",
    "probs = dt.predict_proba(X_test)\n",
    "# print(f'test mse: {np.mean(np.square(preds-y)):0.2f}')\n",
    "\n",
    "plot_tree(dt)\n",
    "# plt.savefig('tree.pdf')\n",
    "plt.show()\n",
    "\n",
    "viz_classification_preds(probs, y_test)"
   ]
  },
  {
   "cell_type": "markdown",
   "metadata": {},
   "source": [
    "### optimal classification tree\n",
    "- docs [here](https://github.com/csinva/interpretability-workshop/tree/master/imodels/optimal_classification_tree)\n",
    "- note: this implementation is still somewhat unstable, and can be made faster by installing either `cplex` or `gurobi`"
   ]
  },
  {
   "cell_type": "code",
   "execution_count": 3,
   "metadata": {},
   "outputs": [],
   "source": [
    "sys.path.append('../imodels/optimal_classification_tree/pyoptree')\n",
    "sys.path.append('../imodels/optimal_classification_tree/')"
   ]
  },
  {
   "cell_type": "code",
   "execution_count": null,
   "metadata": {},
   "outputs": [],
   "source": [
    "from optree import OptimalTreeModel\n",
    "feature_names = np.array([\"x1\", \"x2\"])\n",
    "\n",
    "X = np.array([[1, 2, 2, 2, 3], [1, 2, 1, 0, 1]]).T\n",
    "y = np.array([1, 1, 0, 0, 0]).reshape(-1, 1)\n",
    "X_test = np.array([[1, 1, 2, 2, 2, 3, 3], [1, 2, 2, 1, 0, 1, 0]]).T\n",
    "y_test = np.array([1, 1, 1, 0, 0, 0, 0])\n",
    "\n",
    "np.random.seed(13)\n",
    "model = OptimalTreeModel(tree_depth=3, N_min=1, alpha=0.1) #, solver_name='baron'\n",
    "model.fit(X_test, y_test) # this method is currently using the fast, but not optimal solver\n",
    "preds = model.predict(X_test)\n",
    "\n",
    "# fit on the bigger diabetes dset from above\n",
    "# model.fit(Xtrain, ytrain) # this method is currently using the fast, but not optimal solver\n",
    "# preds = model.predict(Xtest)\n",
    "\n",
    "print('acc', np.mean(preds == y_test))"
   ]
  },
  {
   "cell_type": "code",
   "execution_count": 10,
   "metadata": {},
   "outputs": [
    {
     "name": "stdout",
     "output_type": "stream",
     "text": [
      "depth 0:\n",
      "\t x2 > 0.8114524236945737\n",
      "\n",
      "depth 1:\n",
      "\tnode 2 undefined\n",
      "\tnode 3 undefined\n",
      "\n",
      "depth 2:\n",
      "\tnode 4 undefined\n",
      "\t x1 > 0.01086684288089712\n",
      "\t x2 > 0.9159532769401844\n",
      "\tnode 7 undefined\n",
      "\n",
      "depth 3:\n",
      "\tnode 8 undefined\n",
      "\tnode 9 undefined\n",
      "\tnode 10 undefined\n",
      "\tnode 11 undefined\n",
      "\tnode 12 undefined\n",
      "\tnode 13 undefined\n",
      "\tnode 14 undefined\n",
      "\tnode 15 undefined\n",
      "\n"
     ]
    }
   ],
   "source": [
    "model.print_tree(feature_names)"
   ]
  },
  {
   "cell_type": "markdown",
   "metadata": {},
   "source": [
    "# algebraic models"
   ]
  },
  {
   "cell_type": "markdown",
   "metadata": {},
   "source": [
    "### integer linear models"
   ]
  },
  {
   "cell_type": "code",
   "execution_count": 26,
   "metadata": {
    "pycharm": {
     "is_executing": false
    }
   },
   "outputs": [
    {
     "name": "stdout",
     "output_type": "stream",
     "text": [
      "groundtruth weights should be 1, 2, -1...\n",
      "lambda: 0\tmse:  0.93\tweights: [ 1  2 -1  0  0  0  0  0  0  0]\n",
      "lambda: 0.01\tmse:  0.93\tweights: [ 1  2 -1  0  0  0  0  0  0  0]\n",
      "lambda: 0.05\tmse:  0.93\tweights: [ 1  2 -1  0  0  0  0  0  0  0]\n",
      "lambda: 0.1\tmse:  0.93\tweights: [ 1  2 -1  0  0  0  0  0  0  0]\n",
      "lambda: 1\tmse:  3.94\tweights: [0 1 0 0 0 0 0 0 0 0]\n",
      "lambda: 2\tmse:  7.14\tweights: [0 0 0 0 0 0 0 0 0 0]\n"
     ]
    },
    {
     "name": "stderr",
     "output_type": "stream",
     "text": [
      "/Users/chandan/drive/research/imodels_folder/imodels/imodels/algebraic/slim.py:60: UserWarning: With alpha=0, this algorithm does not converge well. You are advised to use the LinearRegression estimator\n",
      "  m.fit(X, y, sample_weight=sample_weight)\n",
      "/usr/local/lib/python3.7/site-packages/sklearn/linear_model/_coordinate_descent.py:531: UserWarning: Coordinate descent with no regularization may lead to unexpected results and is discouraged.\n",
      "  positive)\n",
      "/usr/local/lib/python3.7/site-packages/sklearn/linear_model/_coordinate_descent.py:531: ConvergenceWarning: Objective did not converge. You might want to increase the number of iterations. Duality gap: 229.54007924516694, tolerance: 0.3572231461180381\n",
      "  positive)\n"
     ]
    }
   ],
   "source": [
    "np.random.seed(123)\n",
    "\n",
    "# generate X and y\n",
    "n, p = 500, 10\n",
    "X_sim = np.random.randn(n, p)\n",
    "y_sim = 1 * X_sim[:, 0] + 2 * X_sim[:, 1] - 1 * X_sim[:, 2] + np.random.randn(n)\n",
    "\n",
    "# fit linear models with different regularization parameters\n",
    "print('groundtruth weights should be 1, 2, -1...')\n",
    "model = SLIMRegressor()\n",
    "for lambda_reg in [0, 1e-2, 5e-2, 1e-1, 1, 2]:\n",
    "    model.fit(X_sim, y_sim, lambda_reg)\n",
    "    mse = np.mean(np.square(y_sim - model.predict(X_sim)))\n",
    "    print(f'lambda: {lambda_reg}\\tmse: {mse: 0.2f}\\tweights: {model.model.coef_}')"
   ]
  }
 ],
 "metadata": {
  "kernelspec": {
   "display_name": "Python 3",
   "language": "python",
   "name": "python3"
  },
  "language_info": {
   "codemirror_mode": {
    "name": "ipython",
    "version": 3
   },
   "file_extension": ".py",
   "mimetype": "text/x-python",
   "name": "python",
   "nbconvert_exporter": "python",
   "pygments_lexer": "ipython3",
   "version": "3.7.0"
  },
  "pycharm": {
   "stem_cell": {
    "cell_type": "raw",
    "metadata": {
     "collapsed": false
    },
    "source": []
   }
  }
 },
 "nbformat": 4,
 "nbformat_minor": 4
}
