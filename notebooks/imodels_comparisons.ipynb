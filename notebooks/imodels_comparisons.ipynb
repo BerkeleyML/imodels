{
 "cells": [
  {
   "cell_type": "code",
   "execution_count": 40,
   "metadata": {},
   "outputs": [],
   "source": [
    "import pickle as pkl\n",
    "import pandas as pd\n",
    "import imodels"
   ]
  },
  {
   "cell_type": "markdown",
   "metadata": {},
   "source": [
    "# this notebooks loads the performances for different models on various datasets into a pandas dataframe"
   ]
  },
  {
   "cell_type": "code",
   "execution_count": 41,
   "metadata": {},
   "outputs": [],
   "source": [
    "model_comparisons_file = '../imodels/util/evaluate/model_comparisons.pkl'\n",
    "df = pkl.load(open(model_comparisons_file, 'rb'))['df']"
   ]
  },
  {
   "cell_type": "code",
   "execution_count": 42,
   "metadata": {},
   "outputs": [
    {
     "data": {
      "text/html": [
       "<div>\n",
       "<style scoped>\n",
       "    .dataframe tbody tr th:only-of-type {\n",
       "        vertical-align: middle;\n",
       "    }\n",
       "\n",
       "    .dataframe tbody tr th {\n",
       "        vertical-align: top;\n",
       "    }\n",
       "\n",
       "    .dataframe thead th {\n",
       "        text-align: right;\n",
       "    }\n",
       "</style>\n",
       "<table border=\"1\" class=\"dataframe\">\n",
       "  <thead>\n",
       "    <tr style=\"text-align: right;\">\n",
       "      <th></th>\n",
       "      <th>breast-cancer</th>\n",
       "      <th>heart</th>\n",
       "      <th>ionosphere</th>\n",
       "    </tr>\n",
       "  </thead>\n",
       "  <tbody>\n",
       "    <tr>\n",
       "      <th>RandomForest Acc.</th>\n",
       "      <td>0.702814</td>\n",
       "      <td>0.796296</td>\n",
       "      <td>0.925926</td>\n",
       "    </tr>\n",
       "    <tr>\n",
       "      <th>RandomForest F1</th>\n",
       "      <td>0.798961</td>\n",
       "      <td>0.819961</td>\n",
       "      <td>0.848425</td>\n",
       "    </tr>\n",
       "    <tr>\n",
       "      <th>RandomForest Time</th>\n",
       "      <td>0.554303</td>\n",
       "      <td>0.546430</td>\n",
       "      <td>0.604728</td>\n",
       "    </tr>\n",
       "    <tr>\n",
       "      <th>SkopeRules Acc.</th>\n",
       "      <td>0.702668</td>\n",
       "      <td>0.696296</td>\n",
       "      <td>0.891738</td>\n",
       "    </tr>\n",
       "    <tr>\n",
       "      <th>SkopeRules F1</th>\n",
       "      <td>0.824326</td>\n",
       "      <td>0.785947</td>\n",
       "      <td>0.792699</td>\n",
       "    </tr>\n",
       "    <tr>\n",
       "      <th>SkopeRules Time</th>\n",
       "      <td>0.536433</td>\n",
       "      <td>0.502616</td>\n",
       "      <td>0.453807</td>\n",
       "    </tr>\n",
       "  </tbody>\n",
       "</table>\n",
       "</div>"
      ],
      "text/plain": [
       "                   breast-cancer     heart  ionosphere\n",
       "RandomForest Acc.       0.702814  0.796296    0.925926\n",
       "RandomForest F1         0.798961  0.819961    0.848425\n",
       "RandomForest Time       0.554303  0.546430    0.604728\n",
       "SkopeRules Acc.         0.702668  0.696296    0.891738\n",
       "SkopeRules F1           0.824326  0.785947    0.792699\n",
       "SkopeRules Time         0.536433  0.502616    0.453807"
      ]
     },
     "execution_count": 42,
     "metadata": {},
     "output_type": "execute_result"
    }
   ],
   "source": [
    "df"
   ]
  }
 ],
 "metadata": {
  "kernelspec": {
   "display_name": "Python 3",
   "language": "python",
   "name": "python3"
  },
  "language_info": {
   "codemirror_mode": {
    "name": "ipython",
    "version": 3
   },
   "file_extension": ".py",
   "mimetype": "text/x-python",
   "name": "python",
   "nbconvert_exporter": "python",
   "pygments_lexer": "ipython3",
   "version": "3.8.3"
  }
 },
 "nbformat": 4,
 "nbformat_minor": 4
}
